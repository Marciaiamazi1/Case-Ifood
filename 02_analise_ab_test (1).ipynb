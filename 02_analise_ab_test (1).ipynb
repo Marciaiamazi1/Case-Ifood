{
 "cells": [
  {
   "cell_type": "markdown",
   "id": "16d2aaa7",
   "metadata": {},
   "source": [
    "# Notebook 02 - Análise do Teste A/B"
   ]
  },
  {
   "cell_type": "code",
   "execution_count": null,
   "id": "47730238",
   "metadata": {},
   "outputs": [],
   "source": [
    "# seu código aqui"
   ]
  }
 ],
 "metadata": {},
 "nbformat": 4,
 "nbformat_minor": 5
}
