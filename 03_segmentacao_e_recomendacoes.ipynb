{
 "cells": [
  {
   "cell_type": "markdown",
   "id": "0651c144",
   "metadata": {},
   "source": [
    "# Notebook 03 - Segmentação e Recomendações"
   ]
  },
  {
   "cell_type": "code",
   "execution_count": null,
   "id": "f672f1a8",
   "metadata": {},
   "outputs": [],
   "source": [
    "# seu código aqui"
   ]
  }
 ],
 "metadata": {},
 "nbformat": 4,
 "nbformat_minor": 5
}
