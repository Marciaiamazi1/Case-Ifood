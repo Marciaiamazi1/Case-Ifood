{
  "nbformat": 4,
  "nbformat_minor": 0,
  "metadata": {
    "colab": {
      "provenance": []
    },
    "kernelspec": {
      "name": "python3",
      "display_name": "Python 3"
    },
    "language_info": {
      "name": "python"
    }
  },
  "cells": [
    {
      "cell_type": "markdown",
      "metadata": {
        "id": "951ea42a"
      },
      "source": [
        "# 📘 Análise de Campanha de Cupons – Case iFood\n",
        "\n",
        "Este notebook analisa os resultados de uma campanha de cupons promovida pelo iFood por meio de um teste A/B, com foco em:\n",
        "\n",
        "- Avaliar impacto no ticket médio e retenção\n",
        "- Identificar perfis comportamentais via segmentação\n",
        "- Gerar recomendações estratégicas para o negócio"
      ]
    },
    {
      "cell_type": "code",
      "source": [
        "# Criar diretório para armazenar a amostra\n",
        "if not os.path.exists(\"dados\"):\n",
        "    os.makedirs(\"dados\")\n",
        "\n",
        "# Amostrar 300.000 linhas do JSON original\n",
        "with gzip.open(\"/content/order.json.gz\", \"rt\", encoding=\"utf-8\") as fin, gzip.open(\"dados/order_amostra.json.gz\", \"wt\", encoding=\"utf-8\") as fout:\n",
        "    for i, linha in enumerate(fin):\n",
        "        if i >= 300000:\n",
        "            break\n",
        "        fout.write(linha)\n",
        "\n",
        "print(\"✅ Amostra criada com sucesso!\")\n"
      ],
      "metadata": {
        "colab": {
          "base_uri": "https://localhost:8080/"
        },
        "id": "pEkNboK3CPwT",
        "outputId": "fcd1eca9-3a59-41ff-f764-6bbf08a53dd9"
      },
      "execution_count": 4,
      "outputs": [
        {
          "output_type": "stream",
          "name": "stdout",
          "text": [
            "✅ Amostra criada com sucesso!\n"
          ]
        }
      ]
    },
    {
      "cell_type": "code",
      "source": [
        "# Pedidos\n",
        "with gzip.open(\"dados/order_amostra.json.gz\", \"rt\", encoding=\"utf-8\") as f:\n",
        "    pedidos = [json.loads(linha) for linha in f]\n",
        "df_orders = pd.DataFrame(pedidos)\n",
        "\n",
        "# Consumidores\n",
        "df_consumers = pd.read_csv(\"/content/consumer.csv.gz\")\n",
        "\n",
        "# Restaurantes (opcional, não usado por enquanto)\n",
        "df_restaurants = pd.read_csv(\"/content/restaurant.csv.gz\")\n",
        "\n",
        "# Teste A/B\n",
        "df_ab = pd.read_csv(\"/content/ab_test_ref.csv\", encoding='latin1')\n",
        "\n",
        "# Verificar e renomear coluna se necessário\n",
        "if \"customer_id\" not in df_ab.columns:\n",
        "    df_ab.columns = ['customer_id', 'is_target']\n",
        "\n",
        "# Unir dados\n",
        "df_usuarios = pd.merge(df_consumers, df_ab, on=\"customer_id\", how=\"inner\")\n",
        "df = pd.merge(df_orders, df_usuarios, on=\"customer_id\", how=\"inner\")\n",
        "\n",
        "# Converter datas\n",
        "df[\"order_created_at\"] = pd.to_datetime(df[\"order_created_at\"], errors=\"coerce\")\n",
        "\n",
        "# Criar coluna de retenção\n",
        "df[\"retido\"] = df.groupby(\"customer_id\")[\"order_id\"].transform(\"count\") > 1\n",
        "\n",
        "print(\"✅ Dados integrados e prontos para análise!\")\n"
      ],
      "metadata": {
        "colab": {
          "base_uri": "https://localhost:8080/"
        },
        "id": "r1Dnnd8mCgrh",
        "outputId": "a139048f-71dc-4b18-9039-a4359795a9da"
      },
      "execution_count": 5,
      "outputs": [
        {
          "output_type": "stream",
          "name": "stdout",
          "text": [
            "✅ Dados integrados e prontos para análise!\n"
          ]
        }
      ]
    },
    {
      "cell_type": "code",
      "source": [
        "# Agregar por usuário\n",
        "usuarios = df.groupby(['customer_id', 'is_target']).agg({\n",
        "    'order_id': 'count',\n",
        "    'order_total_amount': 'mean',\n",
        "    'retido': 'first'\n",
        "}).reset_index().rename(columns={\n",
        "    'order_id': 'n_pedidos',\n",
        "    'order_total_amount': 'ticket_medio'\n",
        "})\n",
        "\n",
        "# Separar grupos\n",
        "controle = usuarios[usuarios['is_target'] == 'control']\n",
        "cuponado = usuarios[usuarios['is_target'] == 'target']\n",
        "\n",
        "# Teste t para comparar ticket médio\n",
        "stat, pval = ttest_ind(controle['ticket_medio'], cuponado['ticket_medio'], nan_policy='omit')\n",
        "print(f\"📌 p-valor do teste A/B para ticket médio: {pval:.4f}\")\n"
      ],
      "metadata": {
        "colab": {
          "base_uri": "https://localhost:8080/"
        },
        "id": "adFJb5gwCvBM",
        "outputId": "9d6eaca4-160b-46b1-b06e-bc9e3f9f2f25"
      },
      "execution_count": 6,
      "outputs": [
        {
          "output_type": "stream",
          "name": "stdout",
          "text": [
            "📌 p-valor do teste A/B para ticket médio: 0.7083\n"
          ]
        }
      ]
    },
    {
      "cell_type": "code",
      "source": [
        "sns.boxplot(x='is_target', y='ticket_medio', data=usuarios)\n",
        "plt.title(\"Ticket Médio por Grupo (Controle vs Cuponado)\")\n",
        "plt.xlabel(\"Grupo de Teste\")\n",
        "plt.ylabel(\"Ticket Médio (R$)\")\n",
        "plt.tight_layout()\n",
        "\n",
        "# Salvar gráfico\n",
        "plt.savefig(\"imagens/ticket_medio_por_grupo.png\", dpi=300, bbox_inches='tight')\n",
        "plt.show()\n"
      ],
      "metadata": {
        "colab": {
          "base_uri": "https://localhost:8080/",
          "height": 487
        },
        "id": "gV0WxTCyCzU8",
        "outputId": "b1584000-7e6d-4d76-a749-2b0a7bf5c844"
      },
      "execution_count": 7,
      "outputs": [
        {
          "output_type": "display_data",
          "data": {
            "text/plain": [
              "<Figure size 640x480 with 1 Axes>"
            ],
            "image/png": "[encoded data removed]"
          },
          "metadata": {}
        }
      ]
    },
    {
      "cell_type": "code",
      "source": [
        "retencao = df.groupby(\"is_target\")[\"retido\"].mean().reset_index()\n",
        "retencao.columns = [\"Grupo\", \"Taxa de Retenção\"]\n",
        "retencao[\"Taxa de Retenção (%)\"] = (retencao[\"Taxa de Retenção\"] * 100).round(2)\n",
        "\n",
        "print(retencao)\n"
      ],
      "metadata": {
        "colab": {
          "base_uri": "https://localhost:8080/"
        },
        "id": "WQiGPsZWC3uJ",
        "outputId": "d1283a12-4c49-498d-906c-b6d43fc2ce0b"
      },
      "execution_count": 8,
      "outputs": [
        {
          "output_type": "stream",
          "name": "stdout",
          "text": [
            "     Grupo  Taxa de Retenção  Taxa de Retenção (%)\n",
            "0  control           0.44143                 44.14\n",
            "1   target           0.46699                 46.70\n"
          ]
        }
      ]
    },
    {
      "cell_type": "code",
      "source": [
        "sns.barplot(data=retencao, x=\"Grupo\", y=\"Taxa de Retenção (%)\", hue=\"Grupo\", palette=\"Set2\", legend=False)\n",
        "plt.title(\"Retenção por Grupo (Target vs Control)\")\n",
        "plt.ylabel(\"Retenção (%)\")\n",
        "plt.ylim(0, 100)\n",
        "plt.tight_layout()\n",
        "\n",
        "# Salvar gráfico\n",
        "plt.savefig(\"imagens/retencao_por_grupo.png\", dpi=300, bbox_inches='tight')\n",
        "plt.show()\n"
      ],
      "metadata": {
        "colab": {
          "base_uri": "https://localhost:8080/",
          "height": 487
        },
        "id": "m-B_7D4PC64A",
        "outputId": "39954ae1-b701-49d0-fbe5-075c5ec077c5"
      },
      "execution_count": 9,
      "outputs": [
        {
          "output_type": "display_data",
          "data": {
            "text/plain": [
              "<Figure size 640x480 with 1 Axes>"
            ],
            "image/png": "[encoded data removed]"
          },
          "metadata": {}
        }
      ]
    },
    {
      "cell_type": "code",
      "source": [
        "# Selecionar variáveis para clusterização\n",
        "cluster_df = usuarios[[\"n_pedidos\", \"ticket_medio\"]].copy()\n",
        "\n",
        "# Padronizar os dados\n",
        "scaler = StandardScaler()\n",
        "X = scaler.fit_transform(cluster_df)\n",
        "\n",
        "# Aplicar KMeans\n",
        "kmeans = KMeans(n_clusters=3, random_state=42, n_init='auto')\n",
        "cluster_df[\"cluster\"] = kmeans.fit_predict(X)\n",
        "\n",
        "# Adicionar rótulos ao dataset original\n",
        "usuarios[\"cluster\"] = cluster_df[\"cluster\"]\n"
      ],
      "metadata": {
        "id": "PN7kk7ijDDlD"
      },
      "execution_count": 10,
      "outputs": []
    },
    {
      "cell_type": "code",
      "source": [
        "sns.scatterplot(data=usuarios, x=\"n_pedidos\", y=\"ticket_medio\", hue=\"cluster\", palette=\"Set2\")\n",
        "plt.title(\"Segmentação de Usuários (K-Means)\")\n",
        "plt.xlabel(\"Número de Pedidos\")\n",
        "plt.ylabel(\"Ticket Médio\")\n",
        "plt.tight_layout()\n",
        "\n",
        "# Salvar gráfico\n",
        "plt.savefig(\"imagens/segmentacao_kmeans_scatter.png\", dpi=300, bbox_inches='tight')\n",
        "plt.show()\n"
      ],
      "metadata": {
        "colab": {
          "base_uri": "https://localhost:8080/",
          "height": 487
        },
        "id": "kTRDHUgvDG3R",
        "outputId": "f516cc2f-3f2d-461e-cf5d-393a142eb881"
      },
      "execution_count": 11,
      "outputs": [
        {
          "output_type": "display_data",
          "data": {
            "text/plain": [
              "<Figure size 640x480 with 1 Axes>"
            ],
            "image/png": "[encoded data removed]"
          },
          "metadata": {}
        }
      ]
    },
    {
      "cell_type": "code",
      "source": [
        "usuarios.groupby(\"cluster\")[[\"n_pedidos\", \"ticket_medio\"]].mean().round(2)\n"
      ],
      "metadata": {
        "colab": {
          "base_uri": "https://localhost:8080/",
          "height": 174
        },
        "id": "1ag3znhcDU__",
        "outputId": "9ba1bfdb-0abc-4ba3-b2e2-45a18325919d"
      },
      "execution_count": 12,
      "outputs": [
        {
          "output_type": "execute_result",
          "data": {
            "text/plain": [
              "         n_pedidos  ticket_medio\n",
              "cluster                         \n",
              "0             1.17        115.28\n",
              "1             3.70         46.73\n",
              "2             1.18         38.77"
            ],
            "text/html": [
              "\n",
              "  <div id=\"df-c02d47dd-f7f6-48ba-bb6e-b52b4fe43633\" class=\"colab-df-container\">\n",
              "    <div>\n",
              "<style scoped>\n",
              "    .dataframe tbody tr th:only-of-type {\n",
              "        vertical-align: middle;\n",
              "    }\n",
              "\n",
              "    .dataframe tbody tr th {\n",
              "        vertical-align: top;\n",
              "    }\n",
              "\n",
              "    .dataframe thead th {\n",
              "        text-align: right;\n",
              "    }\n",
              "</style>\n",
              "<table border=\"1\" class=\"dataframe\">\n",
              "  <thead>\n",
              "    <tr style=\"text-align: right;\">\n",
              "      <th></th>\n",
              "      <th>n_pedidos</th>\n",
              "      <th>ticket_medio</th>\n",
              "    </tr>\n",
              "    <tr>\n",
              "      <th>cluster</th>\n",
              "      <th></th>\n",
              "      <th></th>\n",
              "    </tr>\n",
              "  </thead>\n",
              "  <tbody>\n",
              "    <tr>\n",
              "      <th>0</th>\n",
              "      <td>1.17</td>\n",
              "      <td>115.28</td>\n",
              "    </tr>\n",
              "    <tr>\n",
              "      <th>1</th>\n",
              "      <td>3.70</td>\n",
              "      <td>46.73</td>\n",
              "    </tr>\n",
              "    <tr>\n",
              "      <th>2</th>\n",
              "      <td>1.18</td>\n",
              "      <td>38.77</td>\n",
              "    </tr>\n",
              "  </tbody>\n",
              "</table>\n",
              "</div>\n",
              "    <div class=\"colab-df-buttons\">\n",
              "\n",
              "  <div class=\"colab-df-container\">\n",
              "    <button class=\"colab-df-convert\" onclick=\"convertToInteractive('df-c02d47dd-f7f6-48ba-bb6e-b52b4fe43633')\"\n",
              "            title=\"Convert this dataframe to an interactive table.\"\n",
              "            style=\"display:none;\">\n",
              "\n",
              "  <svg xmlns=\"http://www.w3.org/2000/svg\" height=\"24px\" viewBox=\"0 -960 960 960\">\n",
              "    <path d=\"M120-120v-720h720v720H120Zm60-500h600v-160H180v160Zm220 220h160v-160H400v160Zm0 220h160v-160H400v160ZM180-400h160v-160H180v160Zm440 0h160v-160H620v160ZM180-180h160v-160H180v160Zm440 0h160v-160H620v160Z\"/>\n",
              "  </svg>\n",
              "    </button>\n",
              "\n",
              "  <style>\n",
              "    .colab-df-container {\n",
              "      display:flex;\n",
              "      gap: 12px;\n",
              "    }\n",
              "\n",
              "    .colab-df-convert {\n",
              "      background-color: #E8F0FE;\n",
              "      border: none;\n",
              "      border-radius: 50%;\n",
              "      cursor: pointer;\n",
              "      display: none;\n",
              "      fill: #1967D2;\n",
              "      height: 32px;\n",
              "      padding: 0 0 0 0;\n",
              "      width: 32px;\n",
              "    }\n",
              "\n",
              "    .colab-df-convert:hover {\n",
              "      background-color: #E2EBFA;\n",
              "      box-shadow: 0px 1px 2px rgba(60, 64, 67, 0.3), 0px 1px 3px 1px rgba(60, 64, 67, 0.15);\n",
              "      fill: #174EA6;\n",
              "    }\n",
              "\n",
              "    .colab-df-buttons div {\n",
              "      margin-bottom: 4px;\n",
              "    }\n",
              "\n",
              "    [theme=dark] .colab-df-convert {\n",
              "      background-color: #3B4455;\n",
              "      fill: #D2E3FC;\n",
              "    }\n",
              "\n",
              "    [theme=dark] .colab-df-convert:hover {\n",
              "      background-color: #434B5C;\n",
              "      box-shadow: 0px 1px 3px 1px rgba(0, 0, 0, 0.15);\n",
              "      filter: drop-shadow(0px 1px 2px rgba(0, 0, 0, 0.3));\n",
              "      fill: #FFFFFF;\n",
              "    }\n",
              "  </style>\n",
              "\n",
              "    <script>\n",
              "      const buttonEl =\n",
              "        document.querySelector('#df-c02d47dd-f7f6-48ba-bb6e-b52b4fe43633 button.colab-df-convert');\n",
              "      buttonEl.style.display =\n",
              "        google.colab.kernel.accessAllowed ? 'block' : 'none';\n",
              "\n",
              "      async function convertToInteractive(key) {\n",
              "        const element = document.querySelector('#df-c02d47dd-f7f6-48ba-bb6e-b52b4fe43633');\n",
              "        const dataTable =\n",
              "          await google.colab.kernel.invokeFunction('convertToInteractive',\n",
              "                                                    [key], {});\n",
              "        if (!dataTable) return;\n",
              "\n",
              "        const docLinkHtml = 'Like what you see? Visit the ' +\n",
              "          '<a target=\"_blank\" href=https://colab.research.google.com/notebooks/data_table.ipynb>data table notebook</a>'\n",
              "          + ' to learn more about interactive tables.';\n",
              "        element.innerHTML = '';\n",
              "        dataTable['output_type'] = 'display_data';\n",
              "        await google.colab.output.renderOutput(dataTable, element);\n",
              "        const docLink = document.createElement('div');\n",
              "        docLink.innerHTML = docLinkHtml;\n",
              "        element.appendChild(docLink);\n",
              "      }\n",
              "    </script>\n",
              "  </div>\n",
              "\n",
              "\n",
              "    <div id=\"df-2ad6a536-742f-49ee-9792-54fe9a1a2dec\">\n",
              "      <button class=\"colab-df-quickchart\" onclick=\"quickchart('df-2ad6a536-742f-49ee-9792-54fe9a1a2dec')\"\n",
              "                title=\"Suggest charts\"\n",
              "                style=\"display:none;\">\n",
              "\n",
              "<svg xmlns=\"http://www.w3.org/2000/svg\" height=\"24px\"viewBox=\"0 0 24 24\"\n",
              "     width=\"24px\">\n",
              "    <g>\n",
              "        <path d=\"M19 3H5c-1.1 0-2 .9-2 2v14c0 1.1.9 2 2 2h14c1.1 0 2-.9 2-2V5c0-1.1-.9-2-2-2zM9 17H7v-7h2v7zm4 0h-2V7h2v10zm4 0h-2v-4h2v4z\"/>\n",
              "    </g>\n",
              "</svg>\n",
              "      </button>\n",
              "\n",
              "<style>\n",
              "  .colab-df-quickchart {\n",
              "      --bg-color: #E8F0FE;\n",
              "      --fill-color: #1967D2;\n",
              "      --hover-bg-color: #E2EBFA;\n",
              "      --hover-fill-color: #174EA6;\n",
              "      --disabled-fill-color: #AAA;\n",
              "      --disabled-bg-color: #DDD;\n",
              "  }\n",
              "\n",
              "  [theme=dark] .colab-df-quickchart {\n",
              "      --bg-color: #3B4455;\n",
              "      --fill-color: #D2E3FC;\n",
              "      --hover-bg-color: #434B5C;\n",
              "      --hover-fill-color: #FFFFFF;\n",
              "      --disabled-bg-color: #3B4455;\n",
              "      --disabled-fill-color: #666;\n",
              "  }\n",
              "\n",
              "  .colab-df-quickchart {\n",
              "    background-color: var(--bg-color);\n",
              "    border: none;\n",
              "    border-radius: 50%;\n",
              "    cursor: pointer;\n",
              "    display: none;\n",
              "    fill: var(--fill-color);\n",
              "    height: 32px;\n",
              "    padding: 0;\n",
              "    width: 32px;\n",
              "  }\n",
              "\n",
              "  .colab-df-quickchart:hover {\n",
              "    background-color: var(--hover-bg-color);\n",
              "    box-shadow: 0 1px 2px rgba(60, 64, 67, 0.3), 0 1px 3px 1px rgba(60, 64, 67, 0.15);\n",
              "    fill: var(--button-hover-fill-color);\n",
              "  }\n",
              "\n",
              "  .colab-df-quickchart-complete:disabled,\n",
              "  .colab-df-quickchart-complete:disabled:hover {\n",
              "    background-color: var(--disabled-bg-color);\n",
              "    fill: var(--disabled-fill-color);\n",
              "    box-shadow: none;\n",
              "  }\n",
              "\n",
              "  .colab-df-spinner {\n",
              "    border: 2px solid var(--fill-color);\n",
              "    border-color: transparent;\n",
              "    border-bottom-color: var(--fill-color);\n",
              "    animation:\n",
              "      spin 1s steps(1) infinite;\n",
              "  }\n",
              "\n",
              "  @keyframes spin {\n",
              "    0% {\n",
              "      border-color: transparent;\n",
              "      border-bottom-color: var(--fill-color);\n",
              "      border-left-color: var(--fill-color);\n",
              "    }\n",
              "    20% {\n",
              "      border-color: transparent;\n",
              "      border-left-color: var(--fill-color);\n",
              "      border-top-color: var(--fill-color);\n",
              "    }\n",
              "    30% {\n",
              "      border-color: transparent;\n",
              "      border-left-color: var(--fill-color);\n",
              "      border-top-color: var(--fill-color);\n",
              "      border-right-color: var(--fill-color);\n",
              "    }\n",
              "    40% {\n",
              "      border-color: transparent;\n",
              "      border-right-color: var(--fill-color);\n",
              "      border-top-color: var(--fill-color);\n",
              "    }\n",
              "    60% {\n",
              "      border-color: transparent;\n",
              "      border-right-color: var(--fill-color);\n",
              "    }\n",
              "    80% {\n",
              "      border-color: transparent;\n",
              "      border-right-color: var(--fill-color);\n",
              "      border-bottom-color: var(--fill-color);\n",
              "    }\n",
              "    90% {\n",
              "      border-color: transparent;\n",
              "      border-bottom-color: var(--fill-color);\n",
              "    }\n",
              "  }\n",
              "</style>\n",
              "\n",
              "      <script>\n",
              "        async function quickchart(key) {\n",
              "          const quickchartButtonEl =\n",
              "            document.querySelector('#' + key + ' button');\n",
              "          quickchartButtonEl.disabled = true;  // To prevent multiple clicks.\n",
              "          quickchartButtonEl.classList.add('colab-df-spinner');\n",
              "          try {\n",
              "            const charts = await google.colab.kernel.invokeFunction(\n",
              "                'suggestCharts', [key], {});\n",
              "          } catch (error) {\n",
              "            console.error('Error during call to suggestCharts:', error);\n",
              "          }\n",
              "          quickchartButtonEl.classList.remove('colab-df-spinner');\n",
              "          quickchartButtonEl.classList.add('colab-df-quickchart-complete');\n",
              "        }\n",
              "        (() => {\n",
              "          let quickchartButtonEl =\n",
              "            document.querySelector('#df-2ad6a536-742f-49ee-9792-54fe9a1a2dec button');\n",
              "          quickchartButtonEl.style.display =\n",
              "            google.colab.kernel.accessAllowed ? 'block' : 'none';\n",
              "        })();\n",
              "      </script>\n",
              "    </div>\n",
              "\n",
              "    </div>\n",
              "  </div>\n"
            ],
            "application/vnd.google.colaboratory.intrinsic+json": {
              "type": "dataframe",
              "summary": "{\n  \"name\": \"usuarios\",\n  \"rows\": 3,\n  \"fields\": [\n    {\n      \"column\": \"cluster\",\n      \"properties\": {\n        \"dtype\": \"int32\",\n        \"num_unique_values\": 3,\n        \"samples\": [\n          0,\n          1,\n          2\n        ],\n        \"semantic_type\": \"\",\n        \"description\": \"\"\n      }\n    },\n    {\n      \"column\": \"n_pedidos\",\n      \"properties\": {\n        \"dtype\": \"number\",\n        \"std\": 1.457818004187537,\n        \"min\": 1.17,\n        \"max\": 3.7,\n        \"num_unique_values\": 3,\n        \"samples\": [\n          1.17,\n          3.7,\n          1.18\n        ],\n        \"semantic_type\": \"\",\n        \"description\": \"\"\n      }\n    },\n    {\n      \"column\": \"ticket_medio\",\n      \"properties\": {\n        \"dtype\": \"number\",\n        \"std\": 42.06392793514811,\n        \"min\": 38.77,\n        \"max\": 115.28,\n        \"num_unique_values\": 3,\n        \"samples\": [\n          115.28,\n          46.73,\n          38.77\n        ],\n        \"semantic_type\": \"\",\n        \"description\": \"\"\n      }\n    }\n  ]\n}"
            }
          },
          "metadata": {},
          "execution_count": 12
        }
      ]
    },
    {
      "cell_type": "code",
      "source": [
        "import os\n",
        "import urllib.request\n",
        "import gzip\n",
        "import json\n",
        "import tarfile\n",
        "import pandas as pd\n",
        "import numpy as np\n",
        "import seaborn as sns\n",
        "import matplotlib.pyplot as plt\n",
        "from scipy.stats import ttest_ind\n",
        "from sklearn.preprocessing import StandardScaler\n",
        "from sklearn.cluster import KMeans\n",
        "\n",
        "# Criar pasta para salvar os gráficos\n",
        "if not os.path.exists(\"imagens\"):\n",
        "    os.makedirs(\"imagens\")\n"
      ],
      "metadata": {
        "id": "8YFLgYT4Bra2"
      },
      "execution_count": 2,
      "outputs": []
    },
    {
      "cell_type": "code",
      "source": [
        "# URLs fornecidas\n",
        "urls = {\n",
        "    \"order.json.gz\": \"https://data-architect-test-source.s3-sa-east-1.amazonaws.com/order.json.gz\",\n",
        "    \"consumer.csv.gz\": \"https://data-architect-test-source.s3-sa-east-1.amazonaws.com/consumer.csv.gz\",\n",
        "    \"restaurant.csv.gz\": \"https://data-architect-test-source.s3-sa-east-1.amazonaws.com/restaurant.csv.gz\",\n",
        "    \"ab_test.tar.gz\": \"https://data-architect-test-source.s3-sa-east-1.amazonaws.com/ab_test_ref.tar.gz\"\n",
        "}\n",
        "\n",
        "# Baixar arquivos\n",
        "for nome_arquivo, url in urls.items():\n",
        "    print(f\"⬇️ Baixando {nome_arquivo}...\")\n",
        "    urllib.request.urlretrieve(url, f\"/content/{nome_arquivo}\")\n",
        "\n",
        "# Extrair arquivo tar.gz\n",
        "with tarfile.open(\"/content/ab_test.tar.gz\", \"r:gz\") as tar:\n",
        "    tar.extractall(path=\"/content\")\n"
      ],
      "metadata": {
        "colab": {
          "base_uri": "https://localhost:8080/"
        },
        "id": "74lp7e4tByP7",
        "outputId": "3b28584f-7cc8-44a3-d57b-5e24b8363444"
      },
      "execution_count": 3,
      "outputs": [
        {
          "output_type": "stream",
          "name": "stdout",
          "text": [
            "⬇️ Baixando order.json.gz...\n",
            "⬇️ Baixando consumer.csv.gz...\n",
            "⬇️ Baixando restaurant.csv.gz...\n",
            "⬇️ Baixando ab_test.tar.gz...\n"
          ]
        }
      ]
    }
  ]
}