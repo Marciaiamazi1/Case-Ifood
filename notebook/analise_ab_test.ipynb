# 📌 Juntando os dados
df = orders.merge(ab_ref, on='customer_id', how='inner')

# ✅ Criando métrica de retenção (exemplo: se fez mais de 1 pedido)
df['repetiu'] = df.duplicated(subset='customer_id', keep=False)

# 📊 Comparando retenção
retencao = df.groupby('is_target')['repetiu'].mean()

# 📈 Visualizando
import seaborn as sns
import matplotlib.pyplot as plt

sns.barplot(x=retencao.index, y=retencao.values)
plt.title('Taxa de Retenção por Grupo do Teste A/B')
plt.ylabel('Retenção (%)')
plt.show()

# 🧪 Teste estatístico (teste t de duas amostras)
from scipy.stats import ttest_ind

grupo_teste = df[df['is_target'] == 'target']['repetiu']
grupo_controle = df[df['is_target'] == 'control']['repetiu']

t_stat, p_valor = ttest_ind(grupo_teste, grupo_controle)
print(f'Valor-p: {p_valor}')

