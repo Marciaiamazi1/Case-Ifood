{
  "nbformat": 4,
  "nbformat_minor": 0,
  "metadata": {
    "colab": {
      "provenance": []
    },
    "kernelspec": {
      "name": "python3",
      "display_name": "Python 3"
    },
    "language_info": {
      "name": "python"
    }
  },
  "cells": [
    {
      "cell_type": "code",
      "execution_count": null,
      "metadata": {
        "id": "T0OgM_G0e0J1"
      },
      "outputs": [],
      "source": [
        "# 🧩 Segmentação de Usuários – Case iFood\n",
        "\n",
        "## 1. Bibliotecas\n",
        "import pandas as pd\n",
        "from sklearn.preprocessing import StandardScaler\n",
        "from sklearn.cluster import KMeans\n",
        "import matplotlib.pyplot as plt\n",
        "import seaborn as sns\n",
        "\n",
        "## 2. Carregar base processada\n",
        "df = pd.read_csv('dados_completos.csv')  # use o nome correto do seu arquivo final\n",
        "\n",
        "## 3. Criar métricas por usuário\n",
        "\n",
        "user_behavior = df.groupby('customer_id').agg({\n",
        "    'order_id': 'count',\n",
        "    'order_total_amount': 'sum',\n",
        "    'is_target': 'first'  # manter grupo de teste\n",
        "}).rename(columns={\n",
        "    'order_id': 'qtd_pedidos',\n",
        "    'order_total_amount': 'valor_total'\n",
        "}).reset_index()\n",
        "\n",
        "# Calcular ticket médio\n",
        "user_behavior['ticket_medio'] = user_behavior['valor_total'] / user_behavior['qtd_pedidos']\n",
        "\n",
        "## 4. Normalizar dados numéricos para clustering\n",
        "\n",
        "features = ['qtd_pedidos', 'valor_total', 'ticket_medio']\n",
        "X = StandardScaler().fit_transform(user_behavior[features])\n",
        "\n",
        "## 5. Encontrar número ideal de clusters (cotovelo)\n",
        "\n",
        "sse = []\n",
        "for k in range(1, 8):\n",
        "    kmeans = KMeans(n_clusters=k, random_state=42).fit(X)\n",
        "    sse.append(kmeans.inertia_)\n",
        "\n",
        "plt.plot(range(1, 8), sse, marker='o')\n",
        "plt.title('Método do Cotovelo')\n",
        "plt.xlabel('Número de Clusters')\n",
        "plt.ylabel('SSE')\n",
        "plt.grid(True)\n",
        "plt.show()\n",
        "\n",
        "## 6. Aplicar K-Means com 3 clusters (exemplo)\n",
        "\n",
        "kmeans = KMeans(n_clusters=3, random_state=42)\n",
        "user_behavior['segmento'] = kmeans.fit_predict(X)\n",
        "\n",
        "## 7. Análise por segmento\n",
        "\n",
        "segmento_agg = user_behavior.groupby('segmento').agg({\n",
        "    'qtd_pedidos': 'mean',\n",
        "    'valor_total': 'mean',\n",
        "    'ticket_medio': 'mean'\n",
        "})\n",
        "print(segmento_agg)\n",
        "\n",
        "## 8. Cruzar com grupo de teste\n",
        "\n",
        "segmentos_ab = user_behavior.groupby(['segmento', 'is_target']).agg({\n",
        "    'qtd_pedidos': 'mean',\n",
        "    'valor_total': 'mean'\n",
        "}).reset_index()\n",
        "\n",
        "sns.barplot(data=segmentos_ab, x='segmento', y='qtd_pedidos', hue='is_target')\n",
        "plt.title('Pedidos por Usuário — Target vs Controle por Segmento')\n",
        "plt.show()\n"
      ]
    }
  ]
}