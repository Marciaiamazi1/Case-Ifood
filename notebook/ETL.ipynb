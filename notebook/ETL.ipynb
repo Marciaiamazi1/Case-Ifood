{
  "nbformat": 4,
  "nbformat_minor": 0,
  "metadata": {
    "colab": {
      "provenance": []
    },
    "kernelspec": {
      "name": "python3",
      "display_name": "Python 3"
    },
    "language_info": {
      "name": "python"
    }
  },
  "cells": [
    {
      "cell_type": "code",
      "execution_count": null,
      "metadata": {
        "id": "BuhewmT0bh-i"
      },
      "outputs": [],
      "source": [
        "# 📍 ETL e Pré-processamento dos Dados do Case iFood\n",
        "\n",
        "## 1. Bibliotecas\n",
        "import pandas as pd\n",
        "import numpy as np\n",
        "import json\n",
        "import gzip\n",
        "import tarfile\n",
        "import os\n",
        "\n",
        "## 2. Carregando os dados\n",
        "\n",
        "# URLs fornecidas no case\n",
        "order_url = 'https://data-architect-test-source.s3-sa-east-1.amazonaws.com/order.json.gz'\n",
        "consumer_url = 'https://data-architect-test-source.s3-sa-east-1.amazonaws.com/consumer.csv.gz'\n",
        "restaurant_url = 'https://data-architect-test-source.s3-sa-east-1.amazonaws.com/restaurant.csv.gz'\n",
        "ab_test_url = 'https://data-architect-test-source.s3-sa-east-1.amazonaws.com/ab%20test%20ref.tar.gz'\n",
        "\n",
        "# Salvando localmente\n",
        "!wget $order_url -O order.json.gz\n",
        "!wget $consumer_url -O consumer.csv.gz\n",
        "!wget $restaurant_url -O restaurant.csv.gz\n",
        "!wget $ab_test_url -O ab_test.tar.gz\n",
        "\n",
        "# Descompactar arquivos .tar.gz\n",
        "with tarfile.open('ab_test.tar.gz', 'r:gz') as tar:\n",
        "    tar.extractall()\n",
        "\n",
        "## 3. Leitura dos arquivos\n",
        "\n",
        "# Pedidos\n",
        "with gzip.open('order.json.gz', 'rb') as f:\n",
        "    order_data = [json.loads(line) for line in f]\n",
        "orders = pd.DataFrame(order_data)\n",
        "print(\"Pedidos:\", orders.shape)\n",
        "\n",
        "# Usuários\n",
        "consumers = pd.read_csv('consumer.csv.gz')\n",
        "print(\"Usuários:\", consumers.shape)\n",
        "\n",
        "# Restaurantes\n",
        "restaurants = pd.read_csv('restaurant.csv.gz')\n",
        "print(\"Restaurantes:\", restaurants.shape)\n",
        "\n",
        "# Teste A/B (a pasta pode conter nome variado)\n",
        "ab_test_file = [f for f in os.listdir() if 'ab_test' in f and f.endswith('.csv')][0]\n",
        "ab_test = pd.read_csv(ab_test_file)\n",
        "print(\"AB Test:\", ab_test.shape)\n",
        "\n",
        "## 4. Unir dados principais\n",
        "# Juntar informações do usuário com marcação do grupo de teste\n",
        "consumers_ab = pd.merge(consumers, ab_test, on='customer_id', how='inner')\n",
        "\n",
        "# Unir com os pedidos\n",
        "df = pd.merge(orders, consumers_ab, on='customer_id', how='inner')\n",
        "\n",
        "print(\"DataFrame final:\", df.shape)\n",
        "df.head()\n"
      ]
    }
  ]
}