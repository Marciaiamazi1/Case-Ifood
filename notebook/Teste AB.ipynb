{
  "nbformat": 4,
  "nbformat_minor": 0,
  "metadata": {
    "colab": {
      "provenance": []
    },
    "kernelspec": {
      "name": "python3",
      "display_name": "Python 3"
    },
    "language_info": {
      "name": "python"
    }
  },
  "cells": [
    {
      "cell_type": "code",
      "execution_count": null,
      "metadata": {
        "id": "i16sfK5udBLD"
      },
      "outputs": [],
      "source": [
        "# 📊 Análise do Teste A/B — Case iFood\n",
        "\n",
        "## 1. Bibliotecas\n",
        "import pandas as pd\n",
        "import scipy.stats as stats\n",
        "import matplotlib.pyplot as plt\n",
        "import seaborn as sns\n",
        "\n",
        "## 2. Carregar base já unida do ETL\n",
        "# (suponha que ela foi salva no notebook anterior)\n",
        "df = pd.read_csv('dados_completos.csv')  # ou use o nome correto caso tenha salvo com outro\n",
        "\n",
        "## 3. Visualizar estrutura\n",
        "df['is_target'].value_counts()\n",
        "\n",
        "## 4. Criar métricas principais\n",
        "\n",
        "# Filtrar apenas período da campanha, se necessário (ex: Jan/2019)\n",
        "df['order_created_at'] = pd.to_datetime(df['order_created_at'])\n",
        "df_periodo = df[df['order_created_at'].dt.month == 1]\n",
        "\n",
        "# Quantos usuários únicos fizeram pedidos por grupo\n",
        "pedidos_por_usuario = df_periodo.groupby(['customer_id', 'is_target']).agg({\n",
        "    'order_id': 'count',\n",
        "    'order_total_amount': 'sum'\n",
        "}).reset_index()\n",
        "\n",
        "pedidos_por_usuario.rename(columns={\n",
        "    'order_id': 'qtd_pedidos',\n",
        "    'order_total_amount': 'valor_total'\n",
        "}, inplace=True)\n",
        "\n",
        "# Estatísticas gerais\n",
        "pedidos_por_usuario.groupby('is_target').agg({\n",
        "    'qtd_pedidos': ['mean', 'median'],\n",
        "    'valor_total': ['mean', 'median']\n",
        "})\n",
        "\n",
        "## 5. Testes Estatísticos\n",
        "\n",
        "# Separar os grupos\n",
        "grupo_target = pedidos_por_usuario[pedidos_por_usuario['is_target'] == 'target']\n",
        "grupo_controle = pedidos_por_usuario[pedidos_por_usuario['is_target'] == 'control']\n",
        "\n",
        "# Teste de média de pedidos por usuário\n",
        "stat, p = stats.ttest_ind(\n",
        "    grupo_target['qtd_pedidos'],\n",
        "    grupo_controle['qtd_pedidos'],\n",
        "    equal_var=False\n",
        ")\n",
        "print(f'Teste de pedidos por usuário — p-valor: {p:.4f}')\n",
        "\n",
        "# Teste de valor total por usuário\n",
        "stat2, p2 = stats.ttest_ind(\n",
        "    grupo_target['valor_total'],\n",
        "    grupo_controle['valor_total'],\n",
        "    equal_var=False\n",
        ")\n",
        "print(f'Teste de valor total por usuário — p-valor: {p2:.4f}')\n"
      ]
    }
  ]
}