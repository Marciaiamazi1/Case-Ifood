{
 "cells": [
  {
   "cell_type": "markdown",
   "id": "75158e77",
   "metadata": {},
   "source": [
    "# Notebook 01 - ETL e Exploração de Dados"
   ]
  },
  {
   "cell_type": "code",
   "execution_count": null,
   "id": "ac312aae",
   "metadata": {},
   "outputs": [],
   "source": [
    "# seu código aqui"
   ]
  }
 ],
 "metadata": {},
 "nbformat": 4,
 "nbformat_minor": 5
}
